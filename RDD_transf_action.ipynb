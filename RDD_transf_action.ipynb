{
 "cells": [
  {
   "cell_type": "markdown",
   "metadata": {
    "application/vnd.databricks.v1+cell": {
     "cellMetadata": {},
     "inputWidgets": {},
     "nuid": "96816ed7-b08a-4ca3-abb9-f99880c3535d",
     "showTitle": false,
     "tableResultSettingsMap": {},
     "title": ""
    }
   },
   "source": [
    "\n",
    "## Overview\n",
    "\n",
    "This notebook will show you how to create and query a table or DataFrame that you uploaded to DBFS. [DBFS](https://docs.databricks.com/user-guide/dbfs-databricks-file-system.html) is a Databricks File System that allows you to store data for querying inside of Databricks. This notebook assumes that you have a file already inside of DBFS that you would like to read from.\n",
    "\n",
    "This notebook is written in **Python** so the default cell type is Python. However, you can use different languages by using the `%LANGUAGE` syntax. Python, Scala, SQL, and R are all supported."
   ]
  },
  {
   "cell_type": "code",
   "execution_count": 0,
   "metadata": {
    "application/vnd.databricks.v1+cell": {
     "cellMetadata": {
      "byteLimit": 2048000,
      "rowLimit": 10000
     },
     "inputWidgets": {},
     "nuid": "6482be4c-f067-47c9-b0ac-35c938b94601",
     "showTitle": false,
     "tableResultSettingsMap": {},
     "title": ""
    }
   },
   "outputs": [
    {
     "output_type": "display_data",
     "data": {
      "text/html": [
       "<style scoped>\n",
       "  .table-result-container {\n",
       "    max-height: 300px;\n",
       "    overflow: auto;\n",
       "  }\n",
       "  table, th, td {\n",
       "    border: 1px solid black;\n",
       "    border-collapse: collapse;\n",
       "  }\n",
       "  th, td {\n",
       "    padding: 5px;\n",
       "  }\n",
       "  th {\n",
       "    text-align: left;\n",
       "  }\n",
       "</style><div class='table-result-container'><table class='table-result'><thead style='background-color: white'><tr><th>number</th><th>film</th><th>release_date</th><th>run_time</th><th>film_rating</th><th>plot</th></tr></thead><tbody><tr><td>1</td><td>Toy Story</td><td>1995-11-22</td><td>81</td><td>G</td><td>A cowboy doll is profoundly threatened and jealous when a new spaceman action figure supplants him as top toy in a boy's bedroom.</td></tr><tr><td>2</td><td>A Bug's Life</td><td>1998-11-25</td><td>95</td><td>G</td><td>\"A misfit ant, looking for \"\"warriors\"\" to save his colony from greedy grasshoppers</td></tr><tr><td>3</td><td>Toy Story 2</td><td>1999-11-24</td><td>92</td><td>G</td><td>When Woody is stolen by a toy collector, Buzz and his friends set out on a rescue mission to save Woody before he becomes a museum toy property with his roundup gang Jessie, Prospector, and Bullseye.</td></tr><tr><td>4</td><td>Monsters, Inc.</td><td>2001-11-02</td><td>92</td><td>G</td><td>In order to power the city, monsters have to scare children so that they scream. However, the children are toxic to the monsters, and after a child gets through, two monsters realize things may not be what they think.</td></tr><tr><td>5</td><td>Finding Nemo</td><td>2003-05-30</td><td>100</td><td>G</td><td>After his son is captured in the Great Barrier Reef and taken to Sydney, a timid clownfish sets out on a journey to bring him home.</td></tr><tr><td>6</td><td>The Incredibles</td><td>2004-11-05</td><td>115</td><td>PG</td><td>While trying to lead a quiet suburban life, a family of undercover superheroes are forced into action to save the world.</td></tr><tr><td>7</td><td>Cars</td><td>2006-06-09</td><td>116</td><td>G</td><td>On the way to the biggest race of his life, a hotshot rookie race car gets stranded in a rundown town and learns that winning isn't everything in life.</td></tr><tr><td>8</td><td>Ratatouille</td><td>2007-06-29</td><td>111</td><td>G</td><td>A rat who can cook makes an unusual alliance with a young kitchen worker at a famous Paris restaurant.</td></tr><tr><td>9</td><td>WALL-E</td><td>2008-06-27</td><td>98</td><td>G</td><td>A robot who is responsible for cleaning a waste-covered Earth meets another robot and falls in love with her. Together, they set out on a journey that will alter the fate of mankind.</td></tr><tr><td>10</td><td>Up</td><td>2009-05-29</td><td>96</td><td>PG</td><td>78-year-old Carl Fredricksen travels to South America in his house equipped with balloons, inadvertently taking a young stowaway.</td></tr><tr><td>11</td><td>Toy Story 3</td><td>2010-06-18</td><td>103</td><td>G</td><td>The toys are mistakenly delivered to a day-care center instead of the attic right before Andy leaves for college, and it's up to Woody to convince the other toys that they weren't abandoned and to return home.</td></tr><tr><td>12</td><td>Cars 2</td><td>2011-06-24</td><td>106</td><td>G</td><td>Star race car Lightning McQueen and his pal Mater head overseas to compete in the World Grand Prix race. But the road to the championship becomes rocky as Mater gets caught up in an intriguing adventure of his own: international e...</td></tr><tr><td>13</td><td>Brave</td><td>2012-06-22</td><td>93</td><td>PG</td><td>Determined to make her own path in life, Princess Merida defies a custom that brings chaos to her kingdom. Granted one wish, Merida must rely on her bravery and her archery skills to undo a beastly curse.</td></tr><tr><td>14</td><td>Monsters University</td><td>2013-06-21</td><td>104</td><td>G</td><td>\"A look at the relationship between Mike Wazowski and James P. \"\"Sully\"\" Sullivan during their days at Monsters University</td></tr><tr><td>15</td><td>Inside Out</td><td>2015-06-19</td><td>95</td><td>PG</td><td>After young Riley is uprooted from her Midwest life and moved to San Francisco, her emotions - Joy, Fear, Anger, Disgust and Sadness - conflict on how best to navigate a new city, house, and school.</td></tr><tr><td>16</td><td>The Good Dinosaur</td><td>2015-11-25</td><td>93</td><td>PG</td><td>In a world where dinosaurs and humans live side-by-side, an Apatosaurus named Arlo makes an unlikely human friend.</td></tr><tr><td>17</td><td>Finding Dory</td><td>2016-06-17</td><td>97</td><td>PG</td><td>Friendly but forgetful blue tang Dory begins a search for her long-lost parents and everyone learns a few things about the real meaning of family along the way.</td></tr><tr><td>18</td><td>Cars 3</td><td>2017-06-16</td><td>102</td><td>G</td><td>Lightning McQueen sets out to prove to a new generation of racers that he's still the best race car in the world.</td></tr><tr><td>19</td><td>Coco</td><td>2017-11-22</td><td>105</td><td>PG</td><td>Aspiring musician Miguel, confronted with his family's ancestral ban on music, enters the Land of the Dead to find his great-great-grandfather, a legendary singer.</td></tr><tr><td>20</td><td>Incredibles 2</td><td>2018-06-15</td><td>118</td><td>PG</td><td>The Incredibles family takes on a new mission which involves a change in family roles: Bob Parr (Mr. Incredible) must manage the house while his wife Helen (Elastigirl) goes out to save the world.</td></tr><tr><td>21</td><td>Toy Story 4</td><td>2019-06-21</td><td>100</td><td>G</td><td>\"When a new toy called \"\"Forky\"\" joins Woody and the gang</td></tr><tr><td>22</td><td>Onward</td><td>2020-03-06</td><td>102</td><td>PG</td><td>Teenage elf brothers Ian and Barley embark on a magical quest to spend one more day with their late father. Like any good adventure, their journey is filled with cryptic maps, impossible obstacles and unimaginable discoveries.</td></tr><tr><td>23</td><td>Soul</td><td>2020-12-25</td><td>100</td><td>PG</td><td>Joe is a middle-school band teacher whose life hasn't quite gone the way he expected. His true passion is jazz. But when he travels to another realm to help someone find their passion, he soon discovers what it means to have soul.</td></tr><tr><td>24</td><td>Luca</td><td>2021-06-18</td><td>95</td><td>PG</td><td>On the Italian Riviera, an unlikely but strong friendship grows between a human being and a sea monster disguised as a human.</td></tr><tr><td>25</td><td>Turning Red</td><td>2022-03-11</td><td>100</td><td>PG</td><td>A thirteen-year-old girl named Mei Lee is torn between staying her mother's dutiful daughter and the changes of adolescence. And as if the challenges were not enough, whenever she gets overly excited she transforms into a giant re...</td></tr><tr><td>26</td><td>Lightyear</td><td>2022-06-17</td><td>105</td><td>PG</td><td>While spending years attempting to return home, marooned Space Ranger Buzz Lightyear encounters an army of ruthless robots commanded by Zurg who are attempting to steal his fuel source.</td></tr><tr><td>27</td><td>Elemental</td><td>2023-06-16</td><td>101</td><td>PG</td><td>Follows Ember and Wade, in a city where fire-, water-, earth- and air-residents live together.</td></tr><tr><td>28</td><td>Inside Out 2</td><td>2024-06-14</td><td>96</td><td>PG</td><td>A sequel that features Riley entering puberty and experiencing brand new, more complex emotions as a result. As Riley tries to adapt to her teenage years, her old emotions try to adapt to the possibility of being replaced.</td></tr></tbody></table></div>"
      ]
     },
     "metadata": {
      "application/vnd.databricks.v1+output": {
       "addedWidgets": {},
       "aggData": [],
       "aggError": "",
       "aggOverflow": false,
       "aggSchema": [],
       "aggSeriesLimitReached": false,
       "aggType": "",
       "arguments": {},
       "columnCustomDisplayInfos": {},
       "data": [
        [
         1,
         "Toy Story",
         "1995-11-22",
         81,
         "G",
         "A cowboy doll is profoundly threatened and jealous when a new spaceman action figure supplants him as top toy in a boy's bedroom."
        ],
        [
         2,
         "A Bug's Life",
         "1998-11-25",
         95,
         "G",
         "\"A misfit ant, looking for \"\"warriors\"\" to save his colony from greedy grasshoppers"
        ],
        [
         3,
         "Toy Story 2",
         "1999-11-24",
         92,
         "G",
         "When Woody is stolen by a toy collector, Buzz and his friends set out on a rescue mission to save Woody before he becomes a museum toy property with his roundup gang Jessie, Prospector, and Bullseye."
        ],
        [
         4,
         "Monsters, Inc.",
         "2001-11-02",
         92,
         "G",
         "In order to power the city, monsters have to scare children so that they scream. However, the children are toxic to the monsters, and after a child gets through, two monsters realize things may not be what they think."
        ],
        [
         5,
         "Finding Nemo",
         "2003-05-30",
         100,
         "G",
         "After his son is captured in the Great Barrier Reef and taken to Sydney, a timid clownfish sets out on a journey to bring him home."
        ],
        [
         6,
         "The Incredibles",
         "2004-11-05",
         115,
         "PG",
         "While trying to lead a quiet suburban life, a family of undercover superheroes are forced into action to save the world."
        ],
        [
         7,
         "Cars",
         "2006-06-09",
         116,
         "G",
         "On the way to the biggest race of his life, a hotshot rookie race car gets stranded in a rundown town and learns that winning isn't everything in life."
        ],
        [
         8,
         "Ratatouille",
         "2007-06-29",
         111,
         "G",
         "A rat who can cook makes an unusual alliance with a young kitchen worker at a famous Paris restaurant."
        ],
        [
         9,
         "WALL-E",
         "2008-06-27",
         98,
         "G",
         "A robot who is responsible for cleaning a waste-covered Earth meets another robot and falls in love with her. Together, they set out on a journey that will alter the fate of mankind."
        ],
        [
         10,
         "Up",
         "2009-05-29",
         96,
         "PG",
         "78-year-old Carl Fredricksen travels to South America in his house equipped with balloons, inadvertently taking a young stowaway."
        ],
        [
         11,
         "Toy Story 3",
         "2010-06-18",
         103,
         "G",
         "The toys are mistakenly delivered to a day-care center instead of the attic right before Andy leaves for college, and it's up to Woody to convince the other toys that they weren't abandoned and to return home."
        ],
        [
         12,
         "Cars 2",
         "2011-06-24",
         106,
         "G",
         "Star race car Lightning McQueen and his pal Mater head overseas to compete in the World Grand Prix race. But the road to the championship becomes rocky as Mater gets caught up in an intriguing adventure of his own: international e..."
        ],
        [
         13,
         "Brave",
         "2012-06-22",
         93,
         "PG",
         "Determined to make her own path in life, Princess Merida defies a custom that brings chaos to her kingdom. Granted one wish, Merida must rely on her bravery and her archery skills to undo a beastly curse."
        ],
        [
         14,
         "Monsters University",
         "2013-06-21",
         104,
         "G",
         "\"A look at the relationship between Mike Wazowski and James P. \"\"Sully\"\" Sullivan during their days at Monsters University"
        ],
        [
         15,
         "Inside Out",
         "2015-06-19",
         95,
         "PG",
         "After young Riley is uprooted from her Midwest life and moved to San Francisco, her emotions - Joy, Fear, Anger, Disgust and Sadness - conflict on how best to navigate a new city, house, and school."
        ],
        [
         16,
         "The Good Dinosaur",
         "2015-11-25",
         93,
         "PG",
         "In a world where dinosaurs and humans live side-by-side, an Apatosaurus named Arlo makes an unlikely human friend."
        ],
        [
         17,
         "Finding Dory",
         "2016-06-17",
         97,
         "PG",
         "Friendly but forgetful blue tang Dory begins a search for her long-lost parents and everyone learns a few things about the real meaning of family along the way."
        ],
        [
         18,
         "Cars 3",
         "2017-06-16",
         102,
         "G",
         "Lightning McQueen sets out to prove to a new generation of racers that he's still the best race car in the world."
        ],
        [
         19,
         "Coco",
         "2017-11-22",
         105,
         "PG",
         "Aspiring musician Miguel, confronted with his family's ancestral ban on music, enters the Land of the Dead to find his great-great-grandfather, a legendary singer."
        ],
        [
         20,
         "Incredibles 2",
         "2018-06-15",
         118,
         "PG",
         "The Incredibles family takes on a new mission which involves a change in family roles: Bob Parr (Mr. Incredible) must manage the house while his wife Helen (Elastigirl) goes out to save the world."
        ],
        [
         21,
         "Toy Story 4",
         "2019-06-21",
         100,
         "G",
         "\"When a new toy called \"\"Forky\"\" joins Woody and the gang"
        ],
        [
         22,
         "Onward",
         "2020-03-06",
         102,
         "PG",
         "Teenage elf brothers Ian and Barley embark on a magical quest to spend one more day with their late father. Like any good adventure, their journey is filled with cryptic maps, impossible obstacles and unimaginable discoveries."
        ],
        [
         23,
         "Soul",
         "2020-12-25",
         100,
         "PG",
         "Joe is a middle-school band teacher whose life hasn't quite gone the way he expected. His true passion is jazz. But when he travels to another realm to help someone find their passion, he soon discovers what it means to have soul."
        ],
        [
         24,
         "Luca",
         "2021-06-18",
         95,
         "PG",
         "On the Italian Riviera, an unlikely but strong friendship grows between a human being and a sea monster disguised as a human."
        ],
        [
         25,
         "Turning Red",
         "2022-03-11",
         100,
         "PG",
         "A thirteen-year-old girl named Mei Lee is torn between staying her mother's dutiful daughter and the changes of adolescence. And as if the challenges were not enough, whenever she gets overly excited she transforms into a giant re..."
        ],
        [
         26,
         "Lightyear",
         "2022-06-17",
         105,
         "PG",
         "While spending years attempting to return home, marooned Space Ranger Buzz Lightyear encounters an army of ruthless robots commanded by Zurg who are attempting to steal his fuel source."
        ],
        [
         27,
         "Elemental",
         "2023-06-16",
         101,
         "PG",
         "Follows Ember and Wade, in a city where fire-, water-, earth- and air-residents live together."
        ],
        [
         28,
         "Inside Out 2",
         "2024-06-14",
         96,
         "PG",
         "A sequel that features Riley entering puberty and experiencing brand new, more complex emotions as a result. As Riley tries to adapt to her teenage years, her old emotions try to adapt to the possibility of being replaced."
        ]
       ],
       "datasetInfos": [],
       "dbfsResultPath": null,
       "isJsonSchema": true,
       "metadata": {},
       "overflow": false,
       "plotOptions": {
        "customPlotOptions": {},
        "displayType": "table",
        "pivotAggregation": null,
        "pivotColumns": null,
        "xColumns": null,
        "yColumns": null
       },
       "removedWidgets": [],
       "schema": [
        {
         "metadata": "{}",
         "name": "number",
         "type": "\"integer\""
        },
        {
         "metadata": "{}",
         "name": "film",
         "type": "\"string\""
        },
        {
         "metadata": "{\"__detected_date_formats\":\"yyyy-M-d\"}",
         "name": "release_date",
         "type": "\"date\""
        },
        {
         "metadata": "{}",
         "name": "run_time",
         "type": "\"integer\""
        },
        {
         "metadata": "{}",
         "name": "film_rating",
         "type": "\"string\""
        },
        {
         "metadata": "{}",
         "name": "plot",
         "type": "\"string\""
        }
       ],
       "type": "table"
      }
     },
     "output_type": "display_data"
    }
   ],
   "source": [
    "# File location and type\n",
    "file_location = \"/FileStore/tables/pixar_films-1.csv\"\n",
    "file_type = \"csv\"\n",
    "\n",
    "# CSV options\n",
    "infer_schema = \"True\"\n",
    "first_row_is_header = \"True\"\n",
    "delimiter = \",\"\n",
    "\n",
    "# The applied options are for CSV files. For other file types, these will be ignored.\n",
    "df = spark.read.format(file_type) \\\n",
    "  .option(\"inferSchema\", infer_schema) \\\n",
    "  .option(\"header\", first_row_is_header) \\\n",
    "  .option(\"sep\", delimiter) \\\n",
    "  .load(file_location)\n",
    "\n",
    "display(df)"
   ]
  },
  {
   "cell_type": "code",
   "execution_count": 0,
   "metadata": {
    "application/vnd.databricks.v1+cell": {
     "cellMetadata": {
      "byteLimit": 2048000,
      "rowLimit": 10000
     },
     "inputWidgets": {},
     "nuid": "92e99461-672a-401a-b5d3-5f1683120eb6",
     "showTitle": false,
     "tableResultSettingsMap": {},
     "title": ""
    }
   },
   "outputs": [
    {
     "output_type": "stream",
     "name": "stdout",
     "output_type": "stream",
     "text": [
      "Row(number=5, film='Finding Nemo', release_date=datetime.date(2003, 5, 30), run_time=100, film_rating='G', plot='After his son is captured in the Great Barrier Reef and taken to Sydney, a timid clownfish sets out on a journey to bring him home.')\n"
     ]
    }
   ],
   "source": [
    "rdd=df.rdd.distinct()\n",
    "print(row)\n"
   ]
  },
  {
   "cell_type": "code",
   "execution_count": 0,
   "metadata": {
    "application/vnd.databricks.v1+cell": {
     "cellMetadata": {
      "byteLimit": 2048000,
      "rowLimit": 10000
     },
     "inputWidgets": {},
     "nuid": "05a67cc2-7d4e-49a6-bb78-f064d89d75dd",
     "showTitle": false,
     "tableResultSettingsMap": {},
     "title": ""
    }
   },
   "outputs": [
    {
     "output_type": "stream",
     "name": "stdout",
     "output_type": "stream",
     "text": [
      "Row(number=1, film='Toy Story', release_date=datetime.date(1995, 11, 22), run_time=81, film_rating='G', plot=\"A cowboy doll is profoundly threatened and jealous when a new spaceman action figure supplants him as top toy in a boy's bedroom.\")\nRow(number=2, film=\"A Bug's Life\", release_date=datetime.date(1998, 11, 25), run_time=95, film_rating='G', plot='\"A misfit ant, looking for \"\"warriors\"\" to save his colony from greedy grasshoppers')\nRow(number=3, film='Toy Story 2', release_date=datetime.date(1999, 11, 24), run_time=92, film_rating='G', plot='When Woody is stolen by a toy collector, Buzz and his friends set out on a rescue mission to save Woody before he becomes a museum toy property with his roundup gang Jessie, Prospector, and Bullseye.')\nRow(number=4, film='Monsters, Inc.', release_date=datetime.date(2001, 11, 2), run_time=92, film_rating='G', plot='In order to power the city, monsters have to scare children so that they scream. However, the children are toxic to the monsters, and after a child gets through, two monsters realize things may not be what they think.')\nRow(number=5, film='Finding Nemo', release_date=datetime.date(2003, 5, 30), run_time=100, film_rating='G', plot='After his son is captured in the Great Barrier Reef and taken to Sydney, a timid clownfish sets out on a journey to bring him home.')\n"
     ]
    }
   ],
   "source": [
    "rdd=df.rdd\n",
    "#for row in rdd.collect():\n",
    "    #print(row)\n",
    "\n",
    "for row in rdd.take(5):\n",
    "    print(row)    "
   ]
  },
  {
   "cell_type": "code",
   "execution_count": 0,
   "metadata": {
    "application/vnd.databricks.v1+cell": {
     "cellMetadata": {
      "byteLimit": 2048000,
      "rowLimit": 10000
     },
     "inputWidgets": {},
     "nuid": "807ef211-63dd-4402-8be6-dd3731fea99f",
     "showTitle": false,
     "tableResultSettingsMap": {},
     "title": ""
    }
   },
   "outputs": [
    {
     "output_type": "stream",
     "name": "stdout",
     "output_type": "stream",
     "text": [
      "81\n95\n92\n92\n100\n115\n116\n111\n98\n96\n"
     ]
    }
   ],
   "source": [
    "rdd=df.rdd\n",
    "rdd_map=rdd.map(lambda row:row[3])\n",
    "for row in rdd_map.take(10):\n",
    "    print(row)"
   ]
  },
  {
   "cell_type": "code",
   "execution_count": 0,
   "metadata": {
    "application/vnd.databricks.v1+cell": {
     "cellMetadata": {
      "byteLimit": 2048000,
      "rowLimit": 10000
     },
     "inputWidgets": {},
     "nuid": "2100344b-cd88-415e-b091-8454e6707315",
     "showTitle": false,
     "tableResultSettingsMap": {},
     "title": ""
    }
   },
   "outputs": [
    {
     "output_type": "stream",
     "name": "stdout",
     "output_type": "stream",
     "text": [
      "Row(number=22, film='Onward', release_date=datetime.date(2020, 3, 6), run_time=102, film_rating='PG', plot='Teenage elf brothers Ian and Barley embark on a magical quest to spend one more day with their late father. Like any good adventure, their journey is filled with cryptic maps, impossible obstacles and unimaginable discoveries.')\nRow(number=23, film='Soul', release_date=datetime.date(2020, 12, 25), run_time=100, film_rating='PG', plot=\"Joe is a middle-school band teacher whose life hasn't quite gone the way he expected. His true passion is jazz. But when he travels to another realm to help someone find their passion, he soon discovers what it means to have soul.\")\n"
     ]
    }
   ],
   "source": [
    "rdd=df.rdd\n",
    "rdd_filter=rdd.filter(lambda row:row[2].year==2020)\n",
    "for row in rdd_filter.collect():\n",
    "    print(row)\n",
    "\n"
   ]
  },
  {
   "cell_type": "code",
   "execution_count": 0,
   "metadata": {
    "application/vnd.databricks.v1+cell": {
     "cellMetadata": {
      "byteLimit": 2048000,
      "rowLimit": 10000
     },
     "inputWidgets": {},
     "nuid": "1960739c-9a0a-42b0-8895-e9da8cb49515",
     "showTitle": false,
     "tableResultSettingsMap": {},
     "title": ""
    }
   },
   "outputs": [
    {
     "output_type": "stream",
     "name": "stdout",
     "output_type": "stream",
     "text": [
      "Row(number=7, film='Cars', release_date=datetime.date(2006, 6, 9), run_time=116, film_rating='G', plot=\"On the way to the biggest race of his life, a hotshot rookie race car gets stranded in a rundown town and learns that winning isn't everything in life.\")\nRow(number=8, film='Ratatouille', release_date=datetime.date(2007, 6, 29), run_time=111, film_rating='G', plot='A rat who can cook makes an unusual alliance with a young kitchen worker at a famous Paris restaurant.')\nRow(number=9, film='WALL-E', release_date=datetime.date(2008, 6, 27), run_time=98, film_rating='G', plot='A robot who is responsible for cleaning a waste-covered Earth meets another robot and falls in love with her. Together, they set out on a journey that will alter the fate of mankind.')\nRow(number=11, film='Toy Story 3', release_date=datetime.date(2010, 6, 18), run_time=103, film_rating='G', plot=\"The toys are mistakenly delivered to a day-care center instead of the attic right before Andy leaves for college, and it's up to Woody to convince the other toys that they weren't abandoned and to return home.\")\nRow(number=12, film='Cars 2', release_date=datetime.date(2011, 6, 24), run_time=106, film_rating='G', plot='Star race car Lightning McQueen and his pal Mater head overseas to compete in the World Grand Prix race. But the road to the championship becomes rocky as Mater gets caught up in an intriguing adventure of his own: international e...')\nRow(number=13, film='Brave', release_date=datetime.date(2012, 6, 22), run_time=93, film_rating='PG', plot='Determined to make her own path in life, Princess Merida defies a custom that brings chaos to her kingdom. Granted one wish, Merida must rely on her bravery and her archery skills to undo a beastly curse.')\nRow(number=14, film='Monsters University', release_date=datetime.date(2013, 6, 21), run_time=104, film_rating='G', plot='\"A look at the relationship between Mike Wazowski and James P. \"\"Sully\"\" Sullivan during their days at Monsters University')\nRow(number=15, film='Inside Out', release_date=datetime.date(2015, 6, 19), run_time=95, film_rating='PG', plot='After young Riley is uprooted from her Midwest life and moved to San Francisco, her emotions - Joy, Fear, Anger, Disgust and Sadness - conflict on how best to navigate a new city, house, and school.')\nRow(number=17, film='Finding Dory', release_date=datetime.date(2016, 6, 17), run_time=97, film_rating='PG', plot='Friendly but forgetful blue tang Dory begins a search for her long-lost parents and everyone learns a few things about the real meaning of family along the way.')\nRow(number=18, film='Cars 3', release_date=datetime.date(2017, 6, 16), run_time=102, film_rating='G', plot=\"Lightning McQueen sets out to prove to a new generation of racers that he's still the best race car in the world.\")\nRow(number=20, film='Incredibles 2', release_date=datetime.date(2018, 6, 15), run_time=118, film_rating='PG', plot='The Incredibles family takes on a new mission which involves a change in family roles: Bob Parr (Mr. Incredible) must manage the house while his wife Helen (Elastigirl) goes out to save the world.')\nRow(number=21, film='Toy Story 4', release_date=datetime.date(2019, 6, 21), run_time=100, film_rating='G', plot='\"When a new toy called \"\"Forky\"\" joins Woody and the gang')\nRow(number=24, film='Luca', release_date=datetime.date(2021, 6, 18), run_time=95, film_rating='PG', plot='On the Italian Riviera, an unlikely but strong friendship grows between a human being and a sea monster disguised as a human.')\nRow(number=26, film='Lightyear', release_date=datetime.date(2022, 6, 17), run_time=105, film_rating='PG', plot='While spending years attempting to return home, marooned Space Ranger Buzz Lightyear encounters an army of ruthless robots commanded by Zurg who are attempting to steal his fuel source.')\nRow(number=27, film='Elemental', release_date=datetime.date(2023, 6, 16), run_time=101, film_rating='PG', plot='Follows Ember and Wade, in a city where fire-, water-, earth- and air-residents live together.')\nRow(number=28, film='Inside Out 2', release_date=datetime.date(2024, 6, 14), run_time=96, film_rating='PG', plot='A sequel that features Riley entering puberty and experiencing brand new, more complex emotions as a result. As Riley tries to adapt to her teenage years, her old emotions try to adapt to the possibility of being replaced.')\n"
     ]
    }
   ],
   "source": [
    "rdd=df.rdd\n",
    "rdd_filter=rdd.filter(lambda row:row[2].month==6)\n",
    "for row in rdd_filter.collect():\n",
    "    print(row)"
   ]
  },
  {
   "cell_type": "code",
   "execution_count": 0,
   "metadata": {
    "application/vnd.databricks.v1+cell": {
     "cellMetadata": {
      "byteLimit": 2048000,
      "rowLimit": 10000
     },
     "inputWidgets": {},
     "nuid": "e2942ef8-2e85-41d9-a22a-bbe40b66e158",
     "showTitle": false,
     "tableResultSettingsMap": {},
     "title": ""
    }
   },
   "outputs": [
    {
     "output_type": "stream",
     "name": "stdout",
     "output_type": "stream",
     "text": [
      "Out[47]: ['T', 'o', 'y', ' ', 'S', 't', 'o', 'r', 'y', 'A']"
     ]
    }
   ],
   "source": [
    "rdd=df.rdd\n",
    "flat_rdd=rdd.flatMap(lambda row:row[1])\n",
    "flat_rdd.take(10)\n",
    "#print(flat_rdd)\n",
    "\n",
    "\n"
   ]
  },
  {
   "cell_type": "code",
   "execution_count": 0,
   "metadata": {
    "application/vnd.databricks.v1+cell": {
     "cellMetadata": {
      "byteLimit": 2048000,
      "rowLimit": 10000
     },
     "inputWidgets": {},
     "nuid": "975036d4-7a9f-4fda-86e1-c94c249ba814",
     "showTitle": false,
     "tableResultSettingsMap": {},
     "title": ""
    }
   },
   "outputs": [
    {
     "output_type": "stream",
     "name": "stdout",
     "output_type": "stream",
     "text": [
      "2811\n118\n81\n"
     ]
    }
   ],
   "source": [
    "rdd=df.rdd\n",
    "reduce_rdd=rdd.map(lambda row:row[3])\n",
    "result=reduce_rdd.reduce(lambda x,y:x+y)\n",
    "print(result)\n",
    "\n",
    "max_val=reduce_rdd.reduce(lambda x,y:max(x,y))\n",
    "print(max_val)\n",
    "min_val=reduce_rdd.reduce(lambda x,y:min(x,y))\n",
    "print(min_val)"
   ]
  },
  {
   "cell_type": "code",
   "execution_count": 0,
   "metadata": {
    "application/vnd.databricks.v1+cell": {
     "cellMetadata": {
      "byteLimit": 2048000,
      "rowLimit": 10000
     },
     "inputWidgets": {},
     "nuid": "8355b69f-2889-4d18-8615-47a5ab0abd63",
     "showTitle": false,
     "tableResultSettingsMap": {},
     "title": ""
    }
   },
   "outputs": [
    {
     "output_type": "stream",
     "name": "stdout",
     "output_type": "stream",
     "text": [
      "Toy Story 1995-11-22\nA Bug's Life 1998-11-25\nToy Story 2 1999-11-24\nMonsters, Inc. 2001-11-02\nFinding Nemo 2003-05-30\nThe Incredibles 2004-11-05\nCars 2006-06-09\nRatatouille 2007-06-29\nWALL-E 2008-06-27\nUp 2009-05-29\nToy Story 3 2010-06-18\nCars 2 2011-06-24\nBrave 2012-06-22\nMonsters University 2013-06-21\nInside Out 2015-06-19\nThe Good Dinosaur 2015-11-25\nFinding Dory 2016-06-17\nCars 3 2017-06-16\nCoco 2017-11-22\nIncredibles 2 2018-06-15\nToy Story 4 2019-06-21\nOnward 2020-03-06\nSoul 2020-12-25\nLuca 2021-06-18\nTurning Red 2022-03-11\nLightyear 2022-06-17\nElemental 2023-06-16\nInside Out 2 2024-06-14\n"
     ]
    }
   ],
   "source": [
    "rdd=df.rdd\n",
    "rdd1=rdd.map(lambda row:(row[1],row[2]))\n",
    "reduce_rdd=rdd1.reduceByKey(lambda x,y:max(x,y))\n",
    "for film,date in reduce_rdd.collect():\n",
    "      print(film,date)"
   ]
  },
  {
   "cell_type": "code",
   "execution_count": 0,
   "metadata": {
    "application/vnd.databricks.v1+cell": {
     "cellMetadata": {
      "byteLimit": 2048000,
      "rowLimit": 10000
     },
     "inputWidgets": {},
     "nuid": "22709037-f53b-483b-8e3f-53922db85a60",
     "showTitle": false,
     "tableResultSettingsMap": {},
     "title": ""
    }
   },
   "outputs": [
    {
     "output_type": "stream",
     "name": "stdout",
     "output_type": "stream",
     "text": [
      "Toy Story ['G']\nA Bug's Life ['G']\nToy Story 2 ['G']\nMonsters, Inc. ['G']\nFinding Nemo ['G']\nThe Incredibles ['PG']\nCars ['G']\nRatatouille ['G']\nWALL-E ['G']\nUp ['PG']\nToy Story 3 ['G']\nCars 2 ['G']\nBrave ['PG']\nMonsters University ['G']\nInside Out ['PG']\nThe Good Dinosaur ['PG']\nFinding Dory ['PG']\nCars 3 ['G']\nCoco ['PG']\nIncredibles 2 ['PG']\nToy Story 4 ['G']\nOnward ['PG']\nSoul ['PG']\nLuca ['PG']\nTurning Red ['PG']\nLightyear ['PG']\nElemental ['PG']\nInside Out 2 ['PG']\n"
     ]
    }
   ],
   "source": [
    "rdd=df.rdd\n",
    "map_rdd=rdd.map(lambda row:(row[1],row[4]))\n",
    "                \n",
    "groupby_rdd=map_rdd.groupByKey()\n",
    "for key,value in groupby_rdd.collect():\n",
    "    print(key,list(value))               "
   ]
  },
  {
   "cell_type": "code",
   "execution_count": 0,
   "metadata": {
    "application/vnd.databricks.v1+cell": {
     "cellMetadata": {
      "byteLimit": 2048000,
      "rowLimit": 10000
     },
     "inputWidgets": {},
     "nuid": "3660fa51-bf16-4ee8-8ef4-98de72a3cace",
     "showTitle": false,
     "tableResultSettingsMap": {},
     "title": ""
    }
   },
   "outputs": [
    {
     "output_type": "stream",
     "name": "stdout",
     "output_type": "stream",
     "text": [
      "Toy Story 100 G\nA Bug's Life 100 G\nToy Story 2 100 G\nMonsters, Inc. 100 G\nFinding Nemo 100 G\nThe Incredibles 100 PG\nCars 100 G\nRatatouille 100 G\nWALL-E 100 G\nUp 100 PG\n"
     ]
    }
   ],
   "source": [
    "rdd=df.rdd\n",
    "rdd_map=rdd.map(lambda row:(row[1],(row[3],row[4])))\n",
    "rdd_reduce=rdd_map.reduceByKey(lambda x,y : (max(x[0],y[0]),x[1] if x[0] >= y[0] else y[1]))\n",
    "for film, (max_run_time, rating) in rdd_reduce.take(10):\n",
    "    print(film, min_run_time, rating)\n",
    "    "
   ]
  },
  {
   "cell_type": "code",
   "execution_count": 0,
   "metadata": {
    "application/vnd.databricks.v1+cell": {
     "cellMetadata": {
      "byteLimit": 2048000,
      "rowLimit": 10000
     },
     "inputWidgets": {},
     "nuid": "8ba4b007-fec6-4cd5-9a38-efb126a16bfe",
     "showTitle": false,
     "tableResultSettingsMap": {},
     "title": ""
    }
   },
   "outputs": [
    {
     "output_type": "stream",
     "name": "stdout",
     "output_type": "stream",
     "text": [
      "Toy Story 81 G\nA Bug's Life 95 G\nToy Story 2 92 G\nMonsters, Inc. 92 G\nFinding Nemo 100 G\n"
     ]
    }
   ],
   "source": [
    "rdd_map = rdd.map(lambda row: (row[1], (row[3], row[4])))  \n",
    "\n",
    "\n",
    "rdd_reduce = rdd_map.reduceByKey(lambda x, y: (min(x[0], y[0]), x[1] if x[0] <= y[0] else y[1]))\n",
    "\n",
    "\n",
    "for film, (min_run_time, rating) in rdd_reduce.take(5):  \n",
    "    print(film, min_run_time, rating)"
   ]
  },
  {
   "cell_type": "code",
   "execution_count": 0,
   "metadata": {
    "application/vnd.databricks.v1+cell": {
     "cellMetadata": {
      "byteLimit": 2048000,
      "rowLimit": 10000
     },
     "inputWidgets": {},
     "nuid": "5ae846ce-f724-4bfe-83b1-a97f894417ec",
     "showTitle": false,
     "tableResultSettingsMap": {},
     "title": ""
    }
   },
   "outputs": [
    {
     "output_type": "stream",
     "name": "stdout",
     "output_type": "stream",
     "text": [
      "[('Toy Story', 162, 'G'), (\"A Bug's Life\", 190, 'G')]\n"
     ]
    }
   ],
   "source": [
    "from pyspark.sql import Row\n",
    "data = [\n",
    "    Row(number=1, film=\"Toy Story\", release_date=\"1995-11-22\", run_time=81, film_rating=\"G\"),\n",
    "    Row(number=2, film=\"A Bug's Life\", release_date=\"1998-11-25\", run_time=95, film_rating=\"G\"),\n",
    "    \n",
    "]\n",
    "rdd=sc.parallelize(data)\n",
    "rdd1=rdd.mapPartitions(lambda partition:[(row.film,row.run_time*2,row.film_rating) for row in partition])\n",
    "print(rdd1.collect())\n"
   ]
  },
  {
   "cell_type": "code",
   "execution_count": 0,
   "metadata": {
    "application/vnd.databricks.v1+cell": {
     "cellMetadata": {},
     "inputWidgets": {},
     "nuid": "99aa1a7c-26f9-4ed3-9a1a-3ae8850cc5d6",
     "showTitle": false,
     "tableResultSettingsMap": {},
     "title": ""
    }
   },
   "outputs": [],
   "source": []
  },
  {
   "cell_type": "code",
   "execution_count": 0,
   "metadata": {
    "application/vnd.databricks.v1+cell": {
     "cellMetadata": {
      "byteLimit": 2048000,
      "rowLimit": 10000
     },
     "inputWidgets": {},
     "nuid": "be32f400-da1a-4313-9a84-3b961d0d88b8",
     "showTitle": false,
     "tableResultSettingsMap": {},
     "title": ""
    }
   },
   "outputs": [
    {
     "output_type": "stream",
     "name": "stdout",
     "output_type": "stream",
     "text": [
      "+----+----+----+\n|year|   G|  PG|\n+----+----+----+\n|2003|   1|null|\n|2007|   1|null|\n|2018|null|   1|\n|2015|null|   2|\n|2023|null|   1|\n|2006|   1|null|\n|2022|null|   2|\n|2013|   1|null|\n|2019|   1|null|\n|2004|null|   1|\n|1998|   1|null|\n|2020|null|   2|\n|2012|null|   1|\n|2009|null|   1|\n|2016|null|   1|\n|1995|   1|null|\n|2001|   1|null|\n|2024|null|   1|\n|2010|   1|null|\n|2011|   1|null|\n+----+----+----+\nonly showing top 20 rows\n\n+----+-----------+-----+\n|year|film_rating|count|\n+----+-----------+-----+\n|2003|          G|    1|\n|2007|          G|    1|\n|2018|         PG|    1|\n|2015|         PG|    2|\n|2023|         PG|    1|\n|2006|          G|    1|\n|2022|         PG|    2|\n|2013|          G|    1|\n|2019|          G|    1|\n|2004|         PG|    1|\n|1998|          G|    1|\n|2020|         PG|    2|\n|2012|         PG|    1|\n|2009|         PG|    1|\n|2016|         PG|    1|\n|1995|          G|    1|\n|2001|          G|    1|\n|2024|         PG|    1|\n|2010|          G|    1|\n|2011|          G|    1|\n+----+-----------+-----+\nonly showing top 20 rows\n\n"
     ]
    }
   ],
   "source": [
    "from pyspark.sql.functions import year\n",
    "\n",
    "df_with_year = df.withColumn(\"year\", year(\"release_date\"))\n",
    "\n",
    "pivot_df = df_with_year.groupBy(\"year\") \\\n",
    "    .pivot(\"film_rating\") \\\n",
    "    .count()\n",
    "\n",
    "pivot_df.show()\n",
    "\n",
    "unpivot_df = pivot_df.selectExpr(\"year\",\n",
    "    \"stack(2, 'G', G, 'PG', PG) as (film_rating, count)\"\n",
    ").where(\"count is not null\")\n",
    "\n",
    "unpivot_df.show()"
   ]
  },
  {
   "cell_type": "code",
   "execution_count": 0,
   "metadata": {
    "application/vnd.databricks.v1+cell": {
     "cellMetadata": {},
     "inputWidgets": {},
     "nuid": "28088e9a-7989-47ec-b7f0-f7bd8a4c1303",
     "showTitle": false,
     "tableResultSettingsMap": {},
     "title": ""
    }
   },
   "outputs": [],
   "source": []
  }
 ],
 "metadata": {
  "application/vnd.databricks.v1+notebook": {
   "computePreferences": null,
   "dashboards": [],
   "environmentMetadata": null,
   "inputWidgetPreferences": null,
   "language": "python",
   "notebookMetadata": {
    "pythonIndentUnit": 4
   },
   "notebookName": "RDD_transf_action",
   "widgets": {}
  }
 },
 "nbformat": 4,
 "nbformat_minor": 0
}